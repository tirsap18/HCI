{
 "cells": [
  {
   "cell_type": "markdown",
   "id": "d98ef366",
   "metadata": {},
   "source": [
    "## Tugas HCI"
   ]
  },
  {
   "cell_type": "markdown",
   "id": "5473f873",
   "metadata": {},
   "source": [
    "#### Problem yang ingin saya selesaikan yaitu menentukan pelanggan manasaja yang pengajuan kreditnya patut untuk diterima. Pemilihan pelanggan ini akan saya lihat berdasarkan latar belakang dari pelanggan."
   ]
  },
  {
   "cell_type": "markdown",
   "id": "94e0c8fe",
   "metadata": {},
   "source": [
    "Disini saya akan menggunakan credit_card_balance.csv untuk melihat saldo yang dimiliki oleh pelanggan, apabila saldo yang dimiliki masih berada di batas normal yaitu 1/4 dari jumlah pinjaman yang diajukan maka pelanggan akan dipertimbangkan untuk diterima. Kemudian, menggunakan biro.csv dan installments_payments.csv untuk melihat riwayat pinjaman kredit pelanggan sebagai pertimbangkan apakah pelanggan tersebut selalu membayar hingga lunas atau tidak. "
   ]
  },
  {
   "cell_type": "markdown",
   "id": "6b99f324",
   "metadata": {},
   "source": [
    "### Logistic Regression"
   ]
  },
  {
   "cell_type": "code",
   "execution_count": 2,
   "id": "377d55db",
   "metadata": {},
   "outputs": [],
   "source": [
    "import pandas as pd\n",
    "import numpy as np\n",
    "import matplotlib.pyplot as plt"
   ]
  },
  {
   "cell_type": "code",
   "execution_count": null,
   "id": "d8a88b5f",
   "metadata": {},
   "outputs": [],
   "source": [
    "data = pd.read_csv('application_train.csv')\n",
    "#menggunakan data train untuk melakukan training terlebih dulu"
   ]
  },
  {
   "cell_type": "markdown",
   "id": "de2d1af8",
   "metadata": {},
   "source": [
    "Pada logistic Regression kita dapat menggunakan feature \"jumlah saldo\" dan \"riwayat peminjaman\" apakah pelanggan tersebut sering telat membayar atau tidak."
   ]
  },
  {
   "cell_type": "markdown",
   "id": "6affc731",
   "metadata": {},
   "source": [
    "### Linear Regression"
   ]
  },
  {
   "cell_type": "code",
   "execution_count": null,
   "id": "3cdc5fbc",
   "metadata": {},
   "outputs": [],
   "source": []
  }
 ],
 "metadata": {
  "kernelspec": {
   "display_name": "Python 3",
   "language": "python",
   "name": "python3"
  },
  "language_info": {
   "codemirror_mode": {
    "name": "ipython",
    "version": 3
   },
   "file_extension": ".py",
   "mimetype": "text/x-python",
   "name": "python",
   "nbconvert_exporter": "python",
   "pygments_lexer": "ipython3",
   "version": "3.8.8"
  }
 },
 "nbformat": 4,
 "nbformat_minor": 5
}
